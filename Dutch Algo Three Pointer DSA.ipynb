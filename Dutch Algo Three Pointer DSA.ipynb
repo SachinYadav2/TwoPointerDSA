{
 "cells": [
  {
   "cell_type": "code",
   "execution_count": 52,
   "id": "f88c3139",
   "metadata": {},
   "outputs": [],
   "source": [
    "arr = [2 , 4 , 3, 0, 434,34]"
   ]
  },
  {
   "cell_type": "code",
   "execution_count": 53,
   "id": "397865c1",
   "metadata": {},
   "outputs": [],
   "source": [
    "class Solution(object):\n",
    "    def sortColors(self, nums):\n",
    "        \"\"\"\n",
    "        :type nums: List[int]\n",
    "        :rtype: None Do not return anything, modify nums in-place instead.\n",
    "        \"\"\"\n",
    "# Brute Force TO solve this problme using sort\n",
    "\n",
    "#  2 This Some Optimal approach To solve this \n",
    "        def solve(arr, n):\n",
    "            firstCount = 0\n",
    "            secondCount = 0\n",
    "            thirdCount = 0\n",
    "\n",
    "            for ele in arr:\n",
    "                if ele == 0:\n",
    "                    firstCount += 1\n",
    "                elif ele == 1:\n",
    "                    secondCount += 1\n",
    "                elif ele == 2:\n",
    "                    thirdCount += 1\n",
    "\n",
    "            for i in range(len(arr)):  # Corrected this line\n",
    "                if firstCount != 0:\n",
    "                    arr[i] = 0\n",
    "                    firstCount -= 1\n",
    "                elif secondCount != 0:\n",
    "                    arr[i] = 1\n",
    "                    secondCount -= 1\n",
    "                else:\n",
    "                    arr[i] = 2\n",
    "                    thirdCount -= 1\n",
    "\n",
    "            return arr\n",
    "        # n = len(nums)\n",
    "        # return solve(nums, n)\n",
    "\n",
    "# That is The Best Force approach To solve THis Problem ok\n",
    "\n",
    "# Lets Assume That Ke Dutch Algo Ke Throw To solve THis Problen\n",
    "        def solve(arr , a ,b):\n",
    "\n",
    "            left = 0\n",
    "            right = len(arr)-1\n",
    "            start = 0\n",
    "            while left <= right:\n",
    "                if arr[left] < a:\n",
    "                    arr[left] , arr[start] = arr[start] , arr[left]\n",
    "                    left +=1\n",
    "                    start +=1\n",
    "                elif arr[left] > b:\n",
    "                    arr[right] ,arr[left] = arr[left] , arr[right]\n",
    "                    right -=1\n",
    "                else:\n",
    "                    left += 1\n",
    "            return arr\n",
    "        return solve(nums , 1 , 1)\n",
    "                    \n",
    "           \n",
    "            \n",
    "\n",
    "\n",
    "# Input: nums = [2,0,2,1,1,0]\n",
    "# Output: [0,0,1,1,2,2]\n",
    "        "
   ]
  },
  {
   "cell_type": "code",
   "execution_count": 54,
   "id": "73ec7ebd",
   "metadata": {},
   "outputs": [],
   "source": [
    "solve(arr , 2 , 4)"
   ]
  },
  {
   "cell_type": "code",
   "execution_count": 55,
   "id": "989fa869",
   "metadata": {},
   "outputs": [
    {
     "data": {
      "text/plain": [
       "[0, 4, 3, 2, 34, 434]"
      ]
     },
     "execution_count": 55,
     "metadata": {},
     "output_type": "execute_result"
    }
   ],
   "source": [
    "arr"
   ]
  },
  {
   "cell_type": "code",
   "execution_count": null,
   "id": "d6805f7a",
   "metadata": {},
   "outputs": [],
   "source": []
  },
  {
   "cell_type": "code",
   "execution_count": 56,
   "id": "44c1541f",
   "metadata": {},
   "outputs": [],
   "source": [
    "solve(arr , 2 , 4)"
   ]
  },
  {
   "cell_type": "code",
   "execution_count": 51,
   "id": "3d03e09e",
   "metadata": {},
   "outputs": [
    {
     "data": {
      "text/plain": [
       "[0, 4, 3, 2, 34, 434]"
      ]
     },
     "execution_count": 51,
     "metadata": {},
     "output_type": "execute_result"
    }
   ],
   "source": [
    "arr"
   ]
  },
  {
   "cell_type": "code",
   "execution_count": null,
   "id": "f86fd448",
   "metadata": {},
   "outputs": [],
   "source": []
  }
 ],
 "metadata": {
  "kernelspec": {
   "display_name": "Python 3 (ipykernel)",
   "language": "python",
   "name": "python3"
  },
  "language_info": {
   "codemirror_mode": {
    "name": "ipython",
    "version": 3
   },
   "file_extension": ".py",
   "mimetype": "text/x-python",
   "name": "python",
   "nbconvert_exporter": "python",
   "pygments_lexer": "ipython3",
   "version": "3.10.8"
  }
 },
 "nbformat": 4,
 "nbformat_minor": 5
}
