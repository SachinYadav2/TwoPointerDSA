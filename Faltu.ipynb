{
 "cells": [
  {
   "cell_type": "code",
   "execution_count": null,
   "id": "fa7a9216",
   "metadata": {},
   "outputs": [],
   "source": []
  },
  {
   "cell_type": "code",
   "execution_count": null,
   "id": "0db9a9af",
   "metadata": {},
   "outputs": [],
   "source": [
    "#User function template for Python\n",
    "\n",
    "class Solution:\n",
    "    #Function to partition the array around the range such \n",
    "    #that array is divided into three parts.\n",
    "\tdef threeWayPartition(self, array, a, b):\n",
    "\t    # code here \n",
    "            \n",
    "# First Method To solve The Problem Using The O(nlogn)           \n",
    "            \n",
    "            def solve(arr , a , b):\n",
    "                # Base Case\n",
    "                \n",
    "                return arr.sort()\n",
    "                \n",
    "            # return solve(array , a , b)\n",
    "            \n",
    "# Second Method To solve This Prole using THe Two Pointer Approach To solve This Problem okk\n",
    "            def solve(a , l , h ):\n",
    "                n = len(a)\n",
    "                s = 0\n",
    "                end = n-1\n",
    "                i = 0\n",
    "                \n",
    "                while i<= end:\n",
    "                    \n",
    "                    # Case \n",
    "                    if a[i] < l :\n",
    "                        temp = a[i]\n",
    "                        a[i] = a[s]\n",
    "                        a[s] = temp\n",
    "                        i += 1\n",
    "                        s += 1\n",
    "                    elif a[i] > h :\n",
    "                        temp = a[i]\n",
    "                        a[i] = a[end]\n",
    "                        a[end] = temp\n",
    "                        end -= 1\n",
    "             \n",
    "                    else:\n",
    "                        i += 1\n",
    "                        \n",
    "            return solve(array , a , b)\n",
    "                        \n",
    "   "
   ]
  }
 ],
 "metadata": {
  "kernelspec": {
   "display_name": "Python 3 (ipykernel)",
   "language": "python",
   "name": "python3"
  },
  "language_info": {
   "codemirror_mode": {
    "name": "ipython",
    "version": 3
   },
   "file_extension": ".py",
   "mimetype": "text/x-python",
   "name": "python",
   "nbconvert_exporter": "python",
   "pygments_lexer": "ipython3",
   "version": "3.10.8"
  }
 },
 "nbformat": 4,
 "nbformat_minor": 5
}
