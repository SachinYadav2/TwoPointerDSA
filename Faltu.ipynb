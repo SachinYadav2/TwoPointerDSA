{
 "cells": [
  {
   "cell_type": "code",
   "execution_count": null,
   "id": "540092ac",
   "metadata": {},
   "outputs": [],
   "source": [
    "class Solution(object):\n",
    "    def twoSum(self, nums, target):\n",
    "        \"\"\"\n",
    "        :type nums: List[int]\n",
    "\n",
    "\n",
    "        :type target: int\n",
    "        :rtype: List[int]\n",
    "        \"\"\"\n",
    "\n",
    "\n",
    "        def solve(nums , target):\n",
    "            i = 0\n",
    "            j = len(nums)-1\n",
    "            # Addresh Store kr lete taki ham return kr ske because es case me sort ke bad addresh change ho jaega okk\n",
    "\n",
    "            hashmap = {index: value for index, value in enumerate(nums)}\n",
    "\n",
    "            nums.sort()\n",
    "            while i < j:\n",
    "                if nums[i] + nums[j] == target:\n",
    "                    i = hashmap[nums[i]]\n",
    "\n",
    "                    j = hashmap[nums[j]]\n",
    "\n",
    "                    return [i , j]\n",
    "\n",
    "                elif nums[i] + nums[j] < target:\n",
    "                    i = i + 1\n",
    "                elif nums[i] + nums[j] > target:\n",
    "                    j = j - 1\n",
    "\n",
    "        ans = solve(nums , target)   \n",
    "        return ans\n",
    "\n",
    "# Method Two Using The Brute Force Search Throw Find The Element\n",
    "        def solve(nums , target):\n",
    "            # Ke Hm kya Krenge ke ager curr pr stand krte h to hm agge ke sabhi element ko denge ke kya ye target-curr == ke euqal h beacuse hme only two value ka h index nikalna the na \n",
    "\n",
    "            for i in range(len(nums)):\n",
    "                remai = target - nums[i]\n",
    "                for j in range(i+1 , len(nums)):\n",
    "                    if remai == nums[j] :\n",
    "                        return [i , j]\n",
    "                        break\n",
    "\n",
    "        ans = solve(nums , target)\n",
    "        return ans\n",
    "\n",
    "                    "
   ]
  },
  {
   "cell_type": "code",
   "execution_count": 62,
   "id": "894380e9",
   "metadata": {},
   "outputs": [],
   "source": [
    "from tensorflow import keras"
   ]
  },
  {
   "cell_type": "code",
   "execution_count": null,
   "id": "a9b48b2b",
   "metadata": {},
   "outputs": [
    {
     "name": "stdout",
     "output_type": "stream",
     "text": [
      "Metal device set to: Apple M1\n"
     ]
    },
    {
     "name": "stderr",
     "output_type": "stream",
     "text": [
      "2023-08-17 21:09:36.889839: I tensorflow/core/common_runtime/pluggable_device/pluggable_device_factory.cc:305] Could not identify NUMA node of platform GPU ID 0, defaulting to 0. Your kernel may not have been built with NUMA support.\n",
      "2023-08-17 21:09:36.890905: I tensorflow/core/common_runtime/pluggable_device/pluggable_device_factory.cc:271] Created TensorFlow device (/job:localhost/replica:0/task:0/device:GPU:0 with 0 MB memory) -> physical PluggableDevice (device: 0, name: METAL, pci bus id: <undefined>)\n"
     ]
    },
    {
     "name": "stdout",
     "output_type": "stream",
     "text": [
      "Epoch 1/10\n"
     ]
    },
    {
     "name": "stderr",
     "output_type": "stream",
     "text": [
      "2023-08-17 21:09:37.353138: W tensorflow/core/platform/profile_utils/cpu_utils.cc:128] Failed to get CPU frequency: 0 Hz\n",
      "2023-08-17 21:09:37.521023: I tensorflow/core/grappler/optimizers/custom_graph_optimizer_registry.cc:113] Plugin optimizer for device_type GPU is enabled.\n"
     ]
    },
    {
     "name": "stdout",
     "output_type": "stream",
     "text": [
      "935/938 [============================>.] - ETA: 0s - loss: 0.2942 - accuracy: 0.9174"
     ]
    },
    {
     "name": "stderr",
     "output_type": "stream",
     "text": [
      "2023-08-17 21:09:42.214340: I tensorflow/core/grappler/optimizers/custom_graph_optimizer_registry.cc:113] Plugin optimizer for device_type GPU is enabled.\n"
     ]
    },
    {
     "name": "stdout",
     "output_type": "stream",
     "text": [
      "938/938 [==============================] - 5s 5ms/step - loss: 0.2940 - accuracy: 0.9174 - val_loss: 0.1609 - val_accuracy: 0.9526\n",
      "Epoch 2/10\n",
      "938/938 [==============================] - 5s 5ms/step - loss: 0.1343 - accuracy: 0.9608 - val_loss: 0.1079 - val_accuracy: 0.9689\n",
      "Epoch 3/10\n",
      "938/938 [==============================] - 5s 5ms/step - loss: 0.0936 - accuracy: 0.9727 - val_loss: 0.0910 - val_accuracy: 0.9711\n",
      "Epoch 4/10\n",
      "425/938 [============>.................] - ETA: 2s - loss: 0.0695 - accuracy: 0.9797"
     ]
    }
   ],
   "source": [
    "import tensorflow as tf\n",
    "from tensorflow.keras.models import Sequential\n",
    "from tensorflow.keras.layers import Flatten, Dense\n",
    "\n",
    "# Load the MNIST dataset\n",
    "(x_train, y_train), (x_test, y_test) = tf.keras.datasets.mnist.load_data()\n",
    "\n",
    "# Normalize pixel values to range [0, 1]\n",
    "x_train, x_test = x_train / 255.0, x_test / 255.0\n",
    "\n",
    "# Create the model\n",
    "model = Sequential([\n",
    "    Flatten(input_shape=(28, 28)),  # Flatten the 28x28 images into a 1D array\n",
    "    Dense(128, activation='relu'),\n",
    "    Dense(10, activation='softmax')\n",
    "])\n",
    "\n",
    "# Compile the model\n",
    "model.compile(optimizer='adam',\n",
    "              loss='sparse_categorical_crossentropy',\n",
    "              metrics=['accuracy'])\n",
    "\n",
    "# Train the model\n",
    "model.fit(x_train, y_train, epochs=10, batch_size=64, validation_data=(x_test, y_test))\n",
    "\n",
    "# Evaluate the model\n",
    "loss, accuracy = model.evaluate(x_test, y_test)\n",
    "print(f\"Test Accuracy: {accuracy*100:.2f}%\")"
   ]
  },
  {
   "cell_type": "code",
   "execution_count": 16,
   "id": "c7ea8926",
   "metadata": {},
   "outputs": [],
   "source": [
    "ans = []\n",
    "            # O(n^4)\n",
    "nums =  [91277418,66271374,38763793,4092006,11415077,60468277,1122637,72398035,-62267800,22082642,60359529,-16540633,92671879,-64462734,-55855043,-40899846,88007957,-57387813,-49552230,-96789394,18318594,-3246760,-44346548,-21370279,42493875,25185969,83216261,-70078020,-53687927,-76072023,-65863359,-61708176,-29175835,85675811,-80575807,-92211746,44755622,-23368379,23619674,-749263,-40707953,-68966953,72694581,-52328726,-78618474,40958224,-2921736,-55902268,-74278762,63342010,29076029,58781716,56045007,-67966567,-79405127,-45778231,-47167435,1586413,-58822903,-51277270,87348634,-86955956,-47418266,74884315,-36952674,-29067969,-98812826,-44893101,-22516153,-34522513,34091871,-79583480,47562301,6154068,87601405,-48859327,-2183204,17736781,31189878,-23814871,-35880166,39204002,93248899,-42067196,-49473145,-75235452,-61923200,64824322,-88505198,20903451,-80926102,56089387,-58094433,37743524,-71480010,-14975982,19473982,47085913,-90793462,-33520678,70775566,-76347995,-16091435,94700640,17183454,85735982,90399615,-86251609,-68167910,-95327478,90586275,-99524469,16999817,27815883,-88279865,53092631,75125438,44270568,-23129316,-846252,-59608044,90938699,80923976,3534451,6218186,41256179,-9165388,-11897463,92423776,-38991231,-6082654,92275443,74040861,77457712,-80549965,-42515693,69918944,-95198414,15677446,-52451179,-50111167,-23732840,39520751,-90474508,-27860023,65164540,26582346,-20183515,99018741,-2826130,-28461563,-24759460,-83828963,-1739800,71207113,26434787,52931083,-33111208,38314304,-29429107,-5567826,-5149750,9582750,85289753,75490866,-93202942,-85974081,7365682,-42953023,21825824,68329208,-87994788,3460985,18744871,-49724457,-12982362,-47800372,39958829,-95981751,-71017359,-18397211,27941418,-34699076,74174334,96928957,44328607,49293516,-39034828,5945763,-47046163,10986423,63478877,30677010,-21202664,-86235407,3164123,8956697,-9003909,-18929014,-73824245]\n",
    "target =  -236727523\n",
    "\n",
    "\n",
    "for i in range(0 , len(nums)-3):\n",
    "\n",
    "    for j in range(i+1 , len(nums)-2):\n",
    "\n",
    "        for k in range (j+1 ,len(nums)-1):\n",
    "\n",
    "            for l in range(k+1 , len(nums)):\n",
    "                if nums[i]+nums[j]+nums[k]+nums[l] == target:\n",
    "                    a , b, c, d, = nums[i] , nums[j] , nums[k] , nums[l]\n",
    "\n",
    "                    if [a , b, c,d] in ans:\n",
    "                        continue\n",
    "                    else:\n",
    "                        ans.append([a , b, c,d])"
   ]
  },
  {
   "cell_type": "code",
   "execution_count": 17,
   "id": "dc13c85f",
   "metadata": {},
   "outputs": [
    {
     "data": {
      "text/plain": [
       "[[-70078020, -65863359, -79583480, -21202664],\n",
       " [-76072023, -58094433, -59608044, -42953023]]"
      ]
     },
     "execution_count": 17,
     "metadata": {},
     "output_type": "execute_result"
    }
   ],
   "source": [
    "ans"
   ]
  },
  {
   "cell_type": "code",
   "execution_count": 18,
   "id": "ab42dc58",
   "metadata": {},
   "outputs": [
    {
     "data": {
      "text/plain": [
       "[[-79583480, -70078020, -65863359, -21202664],\n",
       " [-76072023, -59608044, -58094433, -42953023]]"
      ]
     },
     "execution_count": 18,
     "metadata": {},
     "output_type": "execute_result"
    }
   ],
   "source": [
    "result=[]\n",
    "nums.sort()\n",
    "\n",
    "for i in range(len(nums)-3):\n",
    "    if i>0 and nums[i]==nums[i-1]:\n",
    "        continue\n",
    "\n",
    "    for j in range(i+1,len(nums)-2):\n",
    "\n",
    "        if j>i+1 and nums[j] == nums[j-1]:\n",
    "            continue\n",
    "        sum=target-nums[i]-nums[j]\n",
    "\n",
    "        l=j+1\n",
    "        r=len(nums)-1\n",
    "        while l<r:\n",
    "            if nums[l]+nums[r]==sum:\n",
    "                result.append([nums[i],nums[j],nums[l],nums[r]])\n",
    "                while l<r and nums[l]==nums[l+1]:\n",
    "                    l+=1\n",
    "                while l<r and nums[r]==nums[r-1]:\n",
    "                    r-=1\n",
    "                l+=1\n",
    "                r-=1\n",
    "            elif nums[l]+nums[r]<sum:\n",
    "                l+=1\n",
    "            else:\n",
    "                r-=1\n",
    "\n",
    "result"
   ]
  },
  {
   "cell_type": "code",
   "execution_count": null,
   "id": "334983cf",
   "metadata": {},
   "outputs": [],
   "source": [
    "\n",
    "ans = []\n",
    "nums = [2 , 3 ,4 ,6, 8]\n",
    "target = 15\n",
    "\n",
    "nums.sort()\n",
    "for i in range(0 , len(nums)-3):\n",
    "    \n",
    "    for j in range(0 , len(nums)-2):\n",
    "        \n",
    "        chahiye = target - (nums[i]+ nums[j])\n",
    "        \n",
    "        l = 0\n",
    "        h = len(nums)-1\n",
    "        \n",
    "        while l < h:\n",
    "            if nums[l] + nums[h] < chahiye:\n",
    "                l += 1\n",
    "            elif nums[i] + nums[h] > chahiye:\n",
    "                h -= 1\n",
    "                \n",
    "            elif nums[l] + nums[h] == chahiye:\n",
    "                a , b, c, d, = nums[i] , nums[j] , nums[l] , nums[h]\n",
    "\n",
    "                if [a , b, c,d] in ans:\n",
    "                    continue\n",
    "                else:\n",
    "                    ans.append([a , b, c,d])"
   ]
  },
  {
   "cell_type": "code",
   "execution_count": null,
   "id": "59ccb164",
   "metadata": {},
   "outputs": [],
   "source": [
    "ans"
   ]
  },
  {
   "cell_type": "code",
   "execution_count": null,
   "id": "b8e8a8bd",
   "metadata": {},
   "outputs": [],
   "source": []
  }
 ],
 "metadata": {
  "kernelspec": {
   "display_name": "Python 3 (ipykernel)",
   "language": "python",
   "name": "python3"
  },
  "language_info": {
   "codemirror_mode": {
    "name": "ipython",
    "version": 3
   },
   "file_extension": ".py",
   "mimetype": "text/x-python",
   "name": "python",
   "nbconvert_exporter": "python",
   "pygments_lexer": "ipython3",
   "version": "3.10.8"
  }
 },
 "nbformat": 4,
 "nbformat_minor": 5
}
